{
  "nbformat": 4,
  "nbformat_minor": 0,
  "metadata": {
    "colab": {
      "provenance": [],
      "authorship_tag": "ABX9TyPdHiS93DBpTSctHFs5DREL",
      "include_colab_link": true
    },
    "kernelspec": {
      "name": "python3",
      "display_name": "Python 3"
    },
    "language_info": {
      "name": "python"
    }
  },
  "cells": [
    {
      "cell_type": "markdown",
      "metadata": {
        "id": "view-in-github",
        "colab_type": "text"
      },
      "source": [
        "<a href=\"https://colab.research.google.com/github/chrisrichardson/fenics-tutorial/blob/main/Basic_FEM.ipynb\" target=\"_parent\"><img src=\"https://colab.research.google.com/assets/colab-badge.svg\" alt=\"Open In Colab\"/></a>"
      ]
    },
    {
      "cell_type": "markdown",
      "source": [
        "# Basic Finite Element in 1D\n",
        "\n",
        "### Poisson equation in \"strong form\"\n",
        "\n",
        "$${d^2 u\\over dx^2} = \\rho$$\n",
        "\n",
        "In Finite Element, we construct integrals on each element. Let us multiply through by an arbitrary function $v(x)$ and integrate LHS by parts:\n",
        "\n",
        "$$ \\int {d^2 u\\over dx^2}v dx = -\\int {du\\over dx}{dv\\over dx} dx = \\int \\rho v dx$$\n",
        "\n",
        "We let $u$ be discretized by piecewise linear functions.\n",
        "In this case, we will use linear basis functions $\\phi_0 = {x-x_0\\over x_1 - x_0}$ and $\\phi_1 = {x_1 - x\\over x_1 - x_0}$ on the element which lies between $x_0$ and $x_1$. On an element, we can then approximate that:\n",
        "\n",
        "$$u(x) = u_0 \\phi_0(x) + u_1 \\phi_1(x)$$\n",
        "where $u_0$ and $u_1$ are coefficients, effectively the value of $u$ at each end of the interval.\n",
        "Therefore also: $${du\\over dx} = u_0 {d\\phi_0\\over dx} + u_1 {d\\phi_1\\over dx}$$\n",
        "\n",
        "$v(x)$ can be anything! But let us suppose it is $\\phi_0(x)$. Then we get:\n",
        "\n",
        "$$ - u_0 \\int {d\\phi_0\\over dx} {d\\phi_0\\over dx} dx - u_1 \\int {d\\phi_1\\over dx} {d\\phi_0\\over dx} dx = \\int \\rho \\phi_0 dx $$\n",
        "\n",
        "This is an equation for the unknowns $u_0$ and $u_1$. And we can obtain another similar one by using $v(x) = \\phi_1(x)$.\n",
        "\n",
        "Repeating this process for every element results in a set of $n$ equations for $n$ unknowns, which can be written as a matrix algebra problem: $$A.u = b$$\n"
      ],
      "metadata": {
        "id": "CJzKkUQWQj-V"
      }
    },
    {
      "cell_type": "code",
      "source": [
        "# In 1D, a mesh is just a set of \"intervals\" along a line\n",
        "# We will create this \"mesh\" as a numpy array\n",
        "import numpy as np\n",
        "import matplotlib.pyplot as plt\n",
        "\n",
        "npts = 33\n",
        "x = np.linspace(0.0, 1.0, npts)\n",
        "plt.figure(figsize=(10, 2))\n",
        "plt.plot(x, np.zeros_like(x), marker='o')\n",
        "plt.show()"
      ],
      "metadata": {
        "colab": {
          "base_uri": "https://localhost:8080/",
          "height": 214
        },
        "id": "T_OESNpfQmsT",
        "outputId": "a6831100-1c6d-4f60-f780-6f80f62602b4"
      },
      "execution_count": 96,
      "outputs": [
        {
          "output_type": "display_data",
          "data": {
            "text/plain": [
              "<Figure size 1000x200 with 1 Axes>"
            ],
            "image/png": "[encoded data removed]"
          },
          "metadata": {}
        }
      ]
    },
    {
      "cell_type": "code",
      "source": [
        "# The number of elements is one less than the number of points\n",
        "nelem = npts - 1\n",
        "\n",
        "# Solve the equation d^2u/dx^2 = 1\n",
        "\n",
        "# Assemble a matrix for LHS\n",
        "A = np.zeros((npts, npts))\n",
        "\n",
        "for i in range(nelem):\n",
        "  dx = x[i + 1] - x[i]\n",
        "  A[i, i] += -1/dx # -∫(dϕ0/dx)^2 dx\n",
        "  A[i, i + 1] += 1/dx # -∫(dϕ0/dx)*(dϕ1/dx) dx\n",
        "  A[i + 1, i] += 1/dx # -∫(dϕ1/dx)*(dϕ0/dx) dx\n",
        "  A[i + 1, i + 1] += -1/dx # -∫(dϕ1/dx)^2 dx\n",
        "\n",
        "# Visualise the matrix. Note that most entries are still zero.\n",
        "plt.imshow(A)\n",
        "\n",
        "# Assemble a vector for RHS (rho = 1.0)\n",
        "b = np.zeros(npts)\n",
        "rho = 1.0\n",
        "for i in range(nelem):\n",
        "  dx = x[i + 1] - x[i]\n",
        "  b[i] += rho * 0.5 * dx # ∫ρ ϕ0 dx\n",
        "  b[i + 1] += rho * 0.5 * dx # ∫ρ ϕ1 dx\n"
      ],
      "metadata": {
        "colab": {
          "base_uri": "https://localhost:8080/",
          "height": 430
        },
        "id": "-QYP8IyuRK-v",
        "outputId": "d6efcef4-c965-4eb7-e19a-8bf01619b1e1"
      },
      "execution_count": 104,
      "outputs": [
        {
          "output_type": "display_data",
          "data": {
            "text/plain": [
              "<Figure size 640x480 with 1 Axes>"
            ],
            "image/png": "[encoded data removed]"
          },
          "metadata": {}
        }
      ]
    },
    {
      "cell_type": "code",
      "source": [
        "u = np.linalg.solve(A, b)\n",
        "plt.plot(x, u, marker='o')\n",
        "plt.show()"
      ],
      "metadata": {
        "colab": {
          "base_uri": "https://localhost:8080/",
          "height": 329
        },
        "id": "_TV6rGTIStvM",
        "outputId": "ba314ab1-2cf6-491f-cbdb-be3a9d6cda5d"
      },
      "execution_count": 105,
      "outputs": [
        {
          "output_type": "error",
          "ename": "LinAlgError",
          "evalue": "Singular matrix",
          "traceback": [
            "\u001b[0;31m---------------------------------------------------------------------------\u001b[0m",
            "\u001b[0;31mLinAlgError\u001b[0m                               Traceback (most recent call last)",
            "\u001b[0;32m/tmp/ipython-input-3598873679.py\u001b[0m in \u001b[0;36m<cell line: 0>\u001b[0;34m()\u001b[0m\n\u001b[0;32m----> 1\u001b[0;31m \u001b[0mu\u001b[0m \u001b[0;34m=\u001b[0m \u001b[0mnp\u001b[0m\u001b[0;34m.\u001b[0m\u001b[0mlinalg\u001b[0m\u001b[0;34m.\u001b[0m\u001b[0msolve\u001b[0m\u001b[0;34m(\u001b[0m\u001b[0mA\u001b[0m\u001b[0;34m,\u001b[0m \u001b[0mb\u001b[0m\u001b[0;34m)\u001b[0m\u001b[0;34m\u001b[0m\u001b[0;34m\u001b[0m\u001b[0m\n\u001b[0m\u001b[1;32m      2\u001b[0m \u001b[0mplt\u001b[0m\u001b[0;34m.\u001b[0m\u001b[0mplot\u001b[0m\u001b[0;34m(\u001b[0m\u001b[0mx\u001b[0m\u001b[0;34m,\u001b[0m \u001b[0mu\u001b[0m\u001b[0;34m,\u001b[0m \u001b[0mmarker\u001b[0m\u001b[0;34m=\u001b[0m\u001b[0;34m'o'\u001b[0m\u001b[0;34m)\u001b[0m\u001b[0;34m\u001b[0m\u001b[0;34m\u001b[0m\u001b[0m\n\u001b[1;32m      3\u001b[0m \u001b[0mplt\u001b[0m\u001b[0;34m.\u001b[0m\u001b[0mshow\u001b[0m\u001b[0;34m(\u001b[0m\u001b[0;34m)\u001b[0m\u001b[0;34m\u001b[0m\u001b[0;34m\u001b[0m\u001b[0m\n",
            "\u001b[0;32m/usr/local/lib/python3.12/dist-packages/numpy/linalg/_linalg.py\u001b[0m in \u001b[0;36msolve\u001b[0;34m(a, b)\u001b[0m\n\u001b[1;32m    408\u001b[0m     with errstate(call=_raise_linalgerror_singular, invalid='call',\n\u001b[1;32m    409\u001b[0m                   over='ignore', divide='ignore', under='ignore'):\n\u001b[0;32m--> 410\u001b[0;31m         \u001b[0mr\u001b[0m \u001b[0;34m=\u001b[0m \u001b[0mgufunc\u001b[0m\u001b[0;34m(\u001b[0m\u001b[0ma\u001b[0m\u001b[0;34m,\u001b[0m \u001b[0mb\u001b[0m\u001b[0;34m,\u001b[0m \u001b[0msignature\u001b[0m\u001b[0;34m=\u001b[0m\u001b[0msignature\u001b[0m\u001b[0;34m)\u001b[0m\u001b[0;34m\u001b[0m\u001b[0;34m\u001b[0m\u001b[0m\n\u001b[0m\u001b[1;32m    411\u001b[0m \u001b[0;34m\u001b[0m\u001b[0m\n\u001b[1;32m    412\u001b[0m     \u001b[0;32mreturn\u001b[0m \u001b[0mwrap\u001b[0m\u001b[0;34m(\u001b[0m\u001b[0mr\u001b[0m\u001b[0;34m.\u001b[0m\u001b[0mastype\u001b[0m\u001b[0;34m(\u001b[0m\u001b[0mresult_t\u001b[0m\u001b[0;34m,\u001b[0m \u001b[0mcopy\u001b[0m\u001b[0;34m=\u001b[0m\u001b[0;32mFalse\u001b[0m\u001b[0;34m)\u001b[0m\u001b[0;34m)\u001b[0m\u001b[0;34m\u001b[0m\u001b[0;34m\u001b[0m\u001b[0m\n",
            "\u001b[0;32m/usr/local/lib/python3.12/dist-packages/numpy/linalg/_linalg.py\u001b[0m in \u001b[0;36m_raise_linalgerror_singular\u001b[0;34m(err, flag)\u001b[0m\n\u001b[1;32m    102\u001b[0m \u001b[0;34m\u001b[0m\u001b[0m\n\u001b[1;32m    103\u001b[0m \u001b[0;32mdef\u001b[0m \u001b[0m_raise_linalgerror_singular\u001b[0m\u001b[0;34m(\u001b[0m\u001b[0merr\u001b[0m\u001b[0;34m,\u001b[0m \u001b[0mflag\u001b[0m\u001b[0;34m)\u001b[0m\u001b[0;34m:\u001b[0m\u001b[0;34m\u001b[0m\u001b[0;34m\u001b[0m\u001b[0m\n\u001b[0;32m--> 104\u001b[0;31m     \u001b[0;32mraise\u001b[0m \u001b[0mLinAlgError\u001b[0m\u001b[0;34m(\u001b[0m\u001b[0;34m\"Singular matrix\"\u001b[0m\u001b[0;34m)\u001b[0m\u001b[0;34m\u001b[0m\u001b[0;34m\u001b[0m\u001b[0m\n\u001b[0m\u001b[1;32m    105\u001b[0m \u001b[0;34m\u001b[0m\u001b[0m\n\u001b[1;32m    106\u001b[0m \u001b[0;32mdef\u001b[0m \u001b[0m_raise_linalgerror_nonposdef\u001b[0m\u001b[0;34m(\u001b[0m\u001b[0merr\u001b[0m\u001b[0;34m,\u001b[0m \u001b[0mflag\u001b[0m\u001b[0;34m)\u001b[0m\u001b[0;34m:\u001b[0m\u001b[0;34m\u001b[0m\u001b[0;34m\u001b[0m\u001b[0m\n",
            "\u001b[0;31mLinAlgError\u001b[0m: Singular matrix"
          ]
        }
      ]
    },
    {
      "cell_type": "markdown",
      "source": [
        "# Why the error?\n",
        "\n",
        "Lack of boundary conditions... when we specified the equations, we didn't give enough information. By default, a FEM discretization will give \"natural\" boundary conditions on any external boundary (the ends), i.e. zero gradient. The problem is just ill-posed in this case (how can we have a range with an increasing gradient, but zero gradient at both ends). We can fix it by forcing one end to have a particular value (Dirichlet BC). The correct answer should then be: $$ u = {1\\over2}x^2 - x$$"
      ],
      "metadata": {
        "id": "f4R3ujE2aXCz"
      }
    },
    {
      "cell_type": "code",
      "source": [
        "# Make the first entry in the solution be zero.\n",
        "A[0, :] = 0.0\n",
        "A[0, 0] = 1.0\n",
        "b[0] = 0.0"
      ],
      "metadata": {
        "id": "U4bRTxNQTGHc"
      },
      "execution_count": 106,
      "outputs": []
    },
    {
      "cell_type": "code",
      "source": [
        "# Solve the linear system\n",
        "u = np.linalg.solve(A, b)"
      ],
      "metadata": {
        "id": "IfFcoWuTTTb2"
      },
      "execution_count": 107,
      "outputs": []
    },
    {
      "cell_type": "code",
      "source": [
        "plt.plot(x, u, marker='o')\n",
        "plt.plot(x, x**2/2 - x) # check against known answer\n",
        "plt.show()"
      ],
      "metadata": {
        "colab": {
          "base_uri": "https://localhost:8080/",
          "height": 430
        },
        "id": "_kTuuKofTU12",
        "outputId": "4a8ce5b5-658f-4f0a-8df8-b1bfcf39b822"
      },
      "execution_count": 108,
      "outputs": [
        {
          "output_type": "display_data",
          "data": {
            "text/plain": [
              "<Figure size 640x480 with 1 Axes>"
            ],
            "image/png": "[encoded data removed]"
          },
          "metadata": {}
        }
      ]
    },
    {
      "cell_type": "markdown",
      "source": [
        "## Task: set a Dirichlet boundary condition for the other boundary (x=1)"
      ],
      "metadata": {
        "id": "rw8dfCOD11Wr"
      }
    },
    {
      "cell_type": "code",
      "source": [
        "# Hint - clear the last row of A; set the last diagonal entry of A to 1.0, and\n",
        "# set the last entry of b to zero, then re-solve and replot."
      ],
      "metadata": {
        "id": "SpV0lcwqTXtU"
      },
      "execution_count": 109,
      "outputs": []
    },
    {
      "cell_type": "markdown",
      "source": [
        "## Task: change the resolution of the mesh"
      ],
      "metadata": {
        "id": "7F-IkLDgpD2s"
      }
    },
    {
      "cell_type": "code",
      "source": [
        "# Hint - go back and edit \"npts\" and restart the notebook."
      ],
      "metadata": {
        "id": "AaLiAI_91zUp"
      },
      "execution_count": 110,
      "outputs": []
    },
    {
      "cell_type": "markdown",
      "source": [
        "## Task: change mesh spacing"
      ],
      "metadata": {
        "id": "wS-MQoCGCOuE"
      }
    },
    {
      "cell_type": "code",
      "source": [
        "# e.g. use `linspace(0, 1.0, npts) ** 2` or `np.sqrt(linspace(0.0, 1.0, npts))` and restart"
      ],
      "metadata": {
        "id": "pVdwIivCCnwD"
      },
      "execution_count": 111,
      "outputs": []
    }
  ]
}